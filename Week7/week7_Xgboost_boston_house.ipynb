{
  "nbformat": 4,
  "nbformat_minor": 0,
  "metadata": {
    "colab": {
      "name": "week7 Xgboost boston house.ipynb",
      "provenance": [],
      "authorship_tag": "ABX9TyNdmzXUBtfinDH+omBTULvq"
    },
    "kernelspec": {
      "name": "python3",
      "display_name": "Python 3"
    },
    "language_info": {
      "name": "python"
    }
  },
  "cells": [
    {
      "cell_type": "markdown",
      "metadata": {
        "id": "ZGlf18NoC0rE"
      },
      "source": [
        "# XGBoost Regressor\n",
        "https://www.youtube.com/watch?v=-D2Px4b0XQE"
      ]
    },
    {
      "cell_type": "code",
      "metadata": {
        "colab": {
          "base_uri": "https://localhost:8080/"
        },
        "id": "G1U48y-XvVv-",
        "outputId": "872eb531-14f4-4007-8a0d-35aebebf04da"
      },
      "source": [
        "!pip install XGBoost"
      ],
      "execution_count": null,
      "outputs": [
        {
          "output_type": "stream",
          "name": "stdout",
          "text": [
            "Requirement already satisfied: XGBoost in /usr/local/lib/python3.7/dist-packages (0.90)\n",
            "Requirement already satisfied: numpy in /usr/local/lib/python3.7/dist-packages (from XGBoost) (1.19.5)\n",
            "Requirement already satisfied: scipy in /usr/local/lib/python3.7/dist-packages (from XGBoost) (1.4.1)\n"
          ]
        }
      ]
    },
    {
      "cell_type": "code",
      "metadata": {
        "id": "2iNf5d3gDCiK"
      },
      "source": [
        "import pandas as pd\n",
        "import numpy as np\n",
        "import xgboost as xgb\n",
        "from sklearn.datasets import load_boston\n",
        "from sklearn.model_selection import cross_val_score\n",
        "from sklearn.model_selection import cross_val_score, KFold\n",
        "from sklearn.metrics import mean_squared_error\n",
        "import matplotlib.pyplot as plt \n"
      ],
      "execution_count": null,
      "outputs": []
    },
    {
      "cell_type": "code",
      "metadata": {
        "id": "xMLH7V_iDieo"
      },
      "source": [
        "#load data\n",
        "boston = load_boston()\n",
        "\n",
        "#split data test 15% data train 85%\n",
        "from sklearn.model_selection import train_test_split\n",
        "x, y = boston.data, boston.target\n",
        "xtrain, xtest, ytrain, ytest=train_test_split(x, y, test_size=0.15)\n",
        "\n"
      ],
      "execution_count": null,
      "outputs": []
    },
    {
      "cell_type": "code",
      "metadata": {
        "colab": {
          "base_uri": "https://localhost:8080/"
        },
        "id": "nZTz5fhADqwK",
        "outputId": "78895584-88fa-46e7-caa2-03cbb7990df5"
      },
      "source": [
        "#define parameter\n",
        "xgbr = xgb.XGBRegressor(verbosity=0) \n",
        "\n",
        "print(xgbr)"
      ],
      "execution_count": null,
      "outputs": [
        {
          "output_type": "stream",
          "name": "stdout",
          "text": [
            "XGBRegressor(base_score=0.5, booster='gbtree', colsample_bylevel=1,\n",
            "             colsample_bynode=1, colsample_bytree=1, gamma=0,\n",
            "             importance_type='gain', learning_rate=0.1, max_delta_step=0,\n",
            "             max_depth=3, min_child_weight=1, missing=None, n_estimators=100,\n",
            "             n_jobs=1, nthread=None, objective='reg:linear', random_state=0,\n",
            "             reg_alpha=0, reg_lambda=1, scale_pos_weight=1, seed=None,\n",
            "             silent=None, subsample=1, verbosity=0)\n"
          ]
        }
      ]
    },
    {
      "cell_type": "code",
      "metadata": {
        "colab": {
          "base_uri": "https://localhost:8080/"
        },
        "id": "WHt4KDq2Ug1K",
        "outputId": "618611e9-db3d-4de0-8bd3-ad4276aa699d"
      },
      "source": [
        "#fit model dengan data train\n",
        "xgbr.fit(xtrain, ytrain)\n",
        "score= xgbr.score(xtrain,ytrain)\n",
        "print('Training Score:',score)"
      ],
      "execution_count": null,
      "outputs": [
        {
          "output_type": "stream",
          "name": "stdout",
          "text": [
            "Training Score: 0.9707339719017972\n"
          ]
        }
      ]
    },
    {
      "cell_type": "code",
      "metadata": {
        "colab": {
          "base_uri": "https://localhost:8080/"
        },
        "id": "3QchB2pfU8lu",
        "outputId": "9dadeff7-f195-4bec-d327-7b7386f3b5fc"
      },
      "source": [
        "cv_score= cross_val_score(xgbr,xtrain,ytrain\n",
        "                          ,cv=10)\n",
        "print(\"CV mean score:\",cv_score.mean())"
      ],
      "execution_count": null,
      "outputs": [
        {
          "output_type": "stream",
          "name": "stdout",
          "text": [
            "CV mean score: 0.8725844857789132\n"
          ]
        }
      ]
    },
    {
      "cell_type": "code",
      "metadata": {
        "colab": {
          "base_uri": "https://localhost:8080/"
        },
        "id": "DldQbQ-DVC7z",
        "outputId": "5b282260-d1e2-4dc4-bf55-bdee2bbff557"
      },
      "source": [
        "#pake cross validation utk evaluate score\n",
        "#scores = cross_val_score(xgbr, xtrain, ytrain,cv=10)\n",
        "#print(\"Mean cross-validation score: %.2f\" % scores.mean())"
      ],
      "execution_count": null,
      "outputs": [
        {
          "output_type": "stream",
          "name": "stdout",
          "text": [
            "Mean cross-validation score: 0.89\n"
          ]
        }
      ]
    },
    {
      "cell_type": "code",
      "metadata": {
        "colab": {
          "base_uri": "https://localhost:8080/"
        },
        "id": "L6b_ghpbVYSH",
        "outputId": "1eddcda9-d593-4293-c3c1-3e02564b00f1"
      },
      "source": [
        "#atau bisa juga pake k-fold dalam cross validation\n",
        "#kfold = KFold(n_splits=10, shuffle=True)\n",
        "#kf_cv_scores = cross_val_score(xgbr, xtrain, ytrain, cv=kfold )\n",
        "#print(\"K-fold CV average score: %.2f\" % kf_cv_scores.mean())"
      ],
      "execution_count": null,
      "outputs": [
        {
          "output_type": "stream",
          "name": "stdout",
          "text": [
            "K-fold CV average score: 0.89\n"
          ]
        }
      ]
    },
    {
      "cell_type": "code",
      "metadata": {
        "colab": {
          "base_uri": "https://localhost:8080/"
        },
        "id": "smhlW4hlVufE",
        "outputId": "5d04fafd-2bb8-418d-93af-36b0338c96eb"
      },
      "source": [
        "#predict data test dan cek akurasi serta pake MSE dan RMSE sbg metrix akurasi\n",
        "ypred = xgbr.predict(xtest)\n",
        "mse = mean_squared_error(ytest, ypred)\n",
        "print(\"MSE: %.2f\" % mse)\n"
      ],
      "execution_count": null,
      "outputs": [
        {
          "output_type": "stream",
          "name": "stdout",
          "text": [
            "MSE: 16.29\n"
          ]
        }
      ]
    },
    {
      "cell_type": "code",
      "metadata": {
        "colab": {
          "base_uri": "https://localhost:8080/"
        },
        "id": "JCiD7we0WLEN",
        "outputId": "2a134b4c-a619-4035-a2b7-74688aaf5cef"
      },
      "source": [
        "\n",
        "print(\"RMSE: %.2f\" % (mse**(1/2.0)))"
      ],
      "execution_count": null,
      "outputs": [
        {
          "output_type": "stream",
          "name": "stdout",
          "text": [
            "RMSE: 4.04\n"
          ]
        }
      ]
    },
    {
      "cell_type": "code",
      "metadata": {
        "colab": {
          "base_uri": "https://localhost:8080/",
          "height": 281
        },
        "id": "_mQOHEY1ZSJy",
        "outputId": "57a13654-4ab2-4c6d-fdc5-7cb522a45dbc"
      },
      "source": [
        "x_ax = range(len(ytest))\n",
        "plt.plot(x_ax, ytest, label=\"original\")\n",
        "plt.plot(x_ax, ypred, label=\"predicted\")\n",
        "\n",
        "plt.title(\"Boston test and predicted data\")\n",
        "\n",
        "plt.legend()\n",
        "plt.show()"
      ],
      "execution_count": null,
      "outputs": [
        {
          "output_type": "display_data",
          "data": {
            "image/png": "[encoded data removed]",
            "text/plain": [
              "<Figure size 432x288 with 1 Axes>"
            ]
          },
          "metadata": {
            "needs_background": "light"
          }
        }
      ]
    },
    {
      "cell_type": "code",
      "metadata": {
        "id": "s0ojK23pZShk"
      },
      "source": [
        ""
      ],
      "execution_count": null,
      "outputs": []
    }
  ]
}